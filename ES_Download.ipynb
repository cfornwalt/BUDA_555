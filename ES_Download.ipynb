{
 "cells": [
  {
   "cell_type": "markdown",
   "id": "55e0d7ac",
   "metadata": {},
   "source": [
    "## BUDA Capstone - ElasticSearch ETL"
   ]
  },
  {
   "cell_type": "markdown",
   "id": "15bed661",
   "metadata": {},
   "source": [
    "### Install required packages"
   ]
  },
  {
   "cell_type": "code",
   "execution_count": 3,
   "id": "eac0aa1d",
   "metadata": {},
   "outputs": [
    {
     "name": "stdout",
     "output_type": "stream",
     "text": [
      "Collecting pandas\n",
      "  Using cached pandas-1.4.3-cp39-cp39-manylinux_2_17_x86_64.manylinux2014_x86_64.whl (11.7 MB)\n",
      "Requirement already satisfied: pytz>=2020.1 in /opt/conda/lib/python3.9/site-packages (from pandas) (2021.3)\n",
      "Requirement already satisfied: python-dateutil>=2.8.1 in /opt/conda/lib/python3.9/site-packages (from pandas) (2.8.2)\n",
      "Collecting numpy>=1.18.5\n",
      "  Using cached numpy-1.23.1-cp39-cp39-manylinux_2_17_x86_64.manylinux2014_x86_64.whl (17.1 MB)\n",
      "Requirement already satisfied: six>=1.5 in /opt/conda/lib/python3.9/site-packages (from python-dateutil>=2.8.1->pandas) (1.16.0)\n",
      "Installing collected packages: numpy, pandas\n",
      "Successfully installed numpy-1.23.1 pandas-1.4.3\n",
      "Note: you may need to restart the kernel to use updated packages.\n"
     ]
    }
   ],
   "source": [
    "pip install pandas"
   ]
  },
  {
   "cell_type": "code",
   "execution_count": 4,
   "id": "1e8cceb2",
   "metadata": {},
   "outputs": [
    {
     "name": "stdout",
     "output_type": "stream",
     "text": [
      "Collecting elasticsearch==7.14\n",
      "  Using cached elasticsearch-7.14.0-py2.py3-none-any.whl (364 kB)\n",
      "Requirement already satisfied: certifi in /opt/conda/lib/python3.9/site-packages (from elasticsearch==7.14) (2021.10.8)\n",
      "Requirement already satisfied: urllib3<2,>=1.21.1 in /opt/conda/lib/python3.9/site-packages (from elasticsearch==7.14) (1.26.7)\n",
      "Installing collected packages: elasticsearch\n",
      "Successfully installed elasticsearch-7.14.0\n",
      "Note: you may need to restart the kernel to use updated packages.\n"
     ]
    }
   ],
   "source": [
    "pip install elasticsearch==7.14"
   ]
  },
  {
   "cell_type": "markdown",
   "id": "adaf533d",
   "metadata": {},
   "source": [
    "### Import required packages"
   ]
  },
  {
   "cell_type": "code",
   "execution_count": 64,
   "id": "3cb369c3",
   "metadata": {},
   "outputs": [],
   "source": [
    "from elasticsearch import Elasticsearch\n",
    "import json\n",
    "import time\n",
    "import pandas as pd\n",
    "from datetime import date, timedelta"
   ]
  },
  {
   "cell_type": "markdown",
   "id": "dd35f0fc",
   "metadata": {},
   "source": [
    "### Configure connection to elasticsearch hosts \n",
    "#### Pulled from kubernetes using 'kubectl get pods -o wide'"
   ]
  },
  {
   "cell_type": "code",
   "execution_count": 16,
   "id": "7c8afe34",
   "metadata": {},
   "outputs": [],
   "source": [
    "# note: the IP addresses of the pods occasionally change, wondering if there is a way to pull this from kubernetes\n",
    "\n",
    "es = Elasticsearch(hosts=[\"http://172.31.0.251:9200\",\"http://172.31.3.232:9200\",\"http://172.31.0.171:9200\"])\n",
    "\n"
   ]
  },
  {
   "cell_type": "markdown",
   "id": "a2a6d412",
   "metadata": {},
   "source": [
    "### Begin Queries"
   ]
  },
  {
   "cell_type": "markdown",
   "id": "985a411f",
   "metadata": {},
   "source": [
    "#### Example Query"
   ]
  },
  {
   "cell_type": "code",
   "execution_count": 17,
   "id": "f0015fb3",
   "metadata": {},
   "outputs": [],
   "source": [
    "#res = es.get(index=\"logstash-2022.07.02\", id='qxkG3oEByvLGDpe-MPVW', doc_type='_doc')"
   ]
  },
  {
   "cell_type": "code",
   "execution_count": 18,
   "id": "d8193fbf",
   "metadata": {},
   "outputs": [],
   "source": [
    "#payload = json.loads('{\"query\": {\"match\": {\"kubernetes.namespace_name\": {\"query\":\"robot-shop\"}}}}')"
   ]
  },
  {
   "cell_type": "markdown",
   "id": "848a4fb5",
   "metadata": {},
   "source": [
    "#### Example Payload"
   ]
  },
  {
   "cell_type": "code",
   "execution_count": 19,
   "id": "82137dfd",
   "metadata": {
    "scrolled": true
   },
   "outputs": [],
   "source": [
    "#res = es.count(index=\"logstash-2022.07.02\", body=payload)\n",
    "#res"
   ]
  },
  {
   "cell_type": "markdown",
   "id": "bd421a76",
   "metadata": {},
   "source": [
    "### Begin Full Index Download"
   ]
  },
  {
   "cell_type": "code",
   "execution_count": 70,
   "id": "6963be93",
   "metadata": {
    "scrolled": true
   },
   "outputs": [],
   "source": [
    "td = date.today()-timedelta(days=5)\n",
    "td = td.strftime('%Y.%m.%d')"
   ]
  },
  {
   "cell_type": "code",
   "execution_count": 71,
   "id": "a1f797d5",
   "metadata": {},
   "outputs": [],
   "source": [
    "#date.today().strftime('%Y.%m.%d')"
   ]
  },
  {
   "cell_type": "code",
   "execution_count": 72,
   "id": "58c69db1",
   "metadata": {
    "scrolled": true
   },
   "outputs": [],
   "source": [
    "curr_index = 'logstash-'+str(td)"
   ]
  },
  {
   "cell_type": "code",
   "execution_count": 73,
   "id": "f708283f",
   "metadata": {},
   "outputs": [],
   "source": [
    "# When indexes are fixed, uncomment and remove hardcoded line\n",
    "#indexes = [curr_index]\n",
    "indexes = ['logstash-2022.07.12']"
   ]
  },
  {
   "cell_type": "code",
   "execution_count": 76,
   "id": "691bfea4",
   "metadata": {},
   "outputs": [
    {
     "name": "stdout",
     "output_type": "stream",
     "text": [
      "00 02\n",
      "02 04\n",
      "04 06\n",
      "06 08\n",
      "08 10\n",
      "10 12\n",
      "12 14\n",
      "14 16\n",
      "16 18\n",
      "18 20\n",
      "20 22\n",
      "22 23\n"
     ]
    }
   ],
   "source": [
    "# this loop iterates over every index above, and pulls out all robot-shop related logging\n",
    "\n",
    "#payload = json.loads('{\"query\": {\"match\": {\"kubernetes.namespace_name\": {\"query\":\"robot-shop\"}}}}')\n",
    "\n",
    "for i in indexes:\n",
    "    compiled = []\n",
    "    start = ['00', '02','04', '06', '08', '10', '12', '14','16','18','20','22']\n",
    "    end = ['02','04', '06', '08', '10', '12', '14','16','18','20','22','23']\n",
    "    _date = i[9:]\n",
    "    _date = str.replace(_date, '.', '-')\n",
    "    for start, end in zip(start, end):\n",
    "        print(start, end)\n",
    "        payload = '{\"query\":{\"bool\":{\"must\":[{\"match\":{\"kubernetes.namespace_name\":\"robot-shop\"}},{\"range\":{\"@timestamp\":{\"gte\":\"%sT%s:00:00.000000000+00:00\",\"lt\": \"%sT%s:00:00.000000000+00:00\"}}}]}}}' % (_date, start, _date, end)\n",
    "        res = es.search(index=i, body=payload, size=10000)\n",
    "        compiled.append(json.dumps(res['hits']))\n",
    "        time.sleep(5)\n",
    "    f = i + '_output.txt'\n",
    "    pd.DataFrame(compiled).to_csv(f)\n",
    "    #with open(f, 'w') as fout:\n",
    "    #    json.dump(compiled, fout)\n",
    "    "
   ]
  },
  {
   "cell_type": "markdown",
   "id": "7acae646",
   "metadata": {},
   "source": [
    "### Get Result Length"
   ]
  },
  {
   "cell_type": "code",
   "execution_count": 41,
   "id": "bf22525c",
   "metadata": {},
   "outputs": [],
   "source": [
    "# this calculates the total documents in all of the indexes that we have stored in the list 'compiled'\n",
    "# Edit the list of indexes above to include only one, and then uncomment the below code\n",
    "\n",
    "#length = 0\n",
    "#for i in compiled:\n",
    "#    length = length + len(i['hits'])"
   ]
  }
 ],
 "metadata": {
  "kernelspec": {
   "display_name": "Python 3 (ipykernel)",
   "language": "python",
   "name": "python3"
  },
  "language_info": {
   "codemirror_mode": {
    "name": "ipython",
    "version": 3
   },
   "file_extension": ".py",
   "mimetype": "text/x-python",
   "name": "python",
   "nbconvert_exporter": "python",
   "pygments_lexer": "ipython3",
   "version": "3.9.7"
  }
 },
 "nbformat": 4,
 "nbformat_minor": 5
}
